{
  "nbformat": 4,
  "nbformat_minor": 0,
  "metadata": {
    "colab": {
      "name": "Untitled0.ipynb",
      "provenance": [],
      "authorship_tag": "ABX9TyMZKX9x39VbX5t1HcQdD8l9",
      "include_colab_link": true
    },
    "kernelspec": {
      "name": "python3",
      "display_name": "Python 3"
    }
  },
  "cells": [
    {
      "cell_type": "markdown",
      "metadata": {
        "id": "view-in-github",
        "colab_type": "text"
      },
      "source": [
        "<a href=\"https://colab.research.google.com/github/GianLucas96/Tesis/blob/master/PCAFererrin.ipynb\" target=\"_parent\"><img src=\"https://colab.research.google.com/assets/colab-badge.svg\" alt=\"Open In Colab\"/></a>"
      ]
    },
    {
      "cell_type": "code",
      "metadata": {
        "id": "iLzWkuJ_ZQlc",
        "colab_type": "code",
        "colab": {
          "base_uri": "https://localhost:8080/",
          "height": 421
        },
        "outputId": "27ed7de7-2da9-41eb-d310-923b29069f77"
      },
      "source": [
        "import numpy as np\n",
        "import matplotlib.pyplot as plt\n",
        "import pandas as pd\n",
        "from collections import Counter\n",
        "import seaborn as sns\n",
        "import mglearn\n",
        "\n",
        "\n",
        "df = pd.read_excel('C:/Users/ASUS/Desktop/Lucas/U/Tesis/dataset/Ferrarin/Ferrarin/mmc3.xls', sep=';', header = 0,sheet_name='Joint Rotations')\n",
        "papt = pd.DataFrame(df[( df['Angle [°]'] == 'Pelvic Ant/Posterior Tilt')]) \n",
        "papt = papt.drop(['Angle [°]','% Gait Cycle'], axis=1)\n",
        "papt_joven =papt[['Natural','XS','S','M','L','Toe','Heel','Ascending','Descending']]\t\t\n",
        "papt_joven.loc[ papt_joven['Natural'] != 0, 'Class'] = 0 \n",
        "papt_adulto =papt[['Natural.1','XS.1','S.1','M.1','L.1','Toe.1','Heel.1','Ascending.1','Descending.1']]\t\t\n",
        "papt_adulto.loc[papt_adulto['Natural.1'] != 0, 'Class'] = 1 \n",
        "papt_joven = papt_joven.to_numpy()\n",
        "papt_adulto = papt_adulto.to_numpy()\n",
        "papt = np.concatenate((papt_joven, papt_adulto), axis=0)\n",
        "X = papt[: , 0:9]\n",
        "y = papt[: , 9:10]\n",
        "\n",
        "from sklearn.decomposition import PCA\n",
        "\n",
        "pca=PCA(n_components=2)\n",
        "pca.fit(X)\n",
        "\n",
        "transformada=pca.transform(X)\n",
        "\n",
        "print(X.shape)\n",
        "print(transformada.shape)\n",
        "\n",
        "plt.scatter(X[:,0],X[:,1],marker='o')\n",
        "plt.legend(loc='best')\n",
        "plt.xlabel('PCA 1')\n",
        "plt.ylabel('PCA 2')\n"
      ],
      "execution_count": 1,
      "outputs": [
        {
          "output_type": "stream",
          "text": [
            "/usr/local/lib/python3.6/dist-packages/statsmodels/tools/_testing.py:19: FutureWarning: pandas.util.testing is deprecated. Use the functions in the public API at pandas.testing instead.\n",
            "  import pandas.util.testing as tm\n"
          ],
          "name": "stderr"
        },
        {
          "output_type": "error",
          "ename": "ModuleNotFoundError",
          "evalue": "ignored",
          "traceback": [
            "\u001b[0;31m---------------------------------------------------------------------------\u001b[0m",
            "\u001b[0;31mModuleNotFoundError\u001b[0m                       Traceback (most recent call last)",
            "\u001b[0;32m<ipython-input-1-a16b9c29d8fe>\u001b[0m in \u001b[0;36m<module>\u001b[0;34m()\u001b[0m\n\u001b[1;32m      4\u001b[0m \u001b[0;32mfrom\u001b[0m \u001b[0mcollections\u001b[0m \u001b[0;32mimport\u001b[0m \u001b[0mCounter\u001b[0m\u001b[0;34m\u001b[0m\u001b[0;34m\u001b[0m\u001b[0m\n\u001b[1;32m      5\u001b[0m \u001b[0;32mimport\u001b[0m \u001b[0mseaborn\u001b[0m \u001b[0;32mas\u001b[0m \u001b[0msns\u001b[0m\u001b[0;34m\u001b[0m\u001b[0;34m\u001b[0m\u001b[0m\n\u001b[0;32m----> 6\u001b[0;31m \u001b[0;32mimport\u001b[0m \u001b[0mmglearn\u001b[0m\u001b[0;34m\u001b[0m\u001b[0;34m\u001b[0m\u001b[0m\n\u001b[0m\u001b[1;32m      7\u001b[0m \u001b[0;34m\u001b[0m\u001b[0m\n\u001b[1;32m      8\u001b[0m \u001b[0;34m\u001b[0m\u001b[0m\n",
            "\u001b[0;31mModuleNotFoundError\u001b[0m: No module named 'mglearn'",
            "",
            "\u001b[0;31m---------------------------------------------------------------------------\u001b[0;32m\nNOTE: If your import is failing due to a missing package, you can\nmanually install dependencies using either !pip or !apt.\n\nTo view examples of installing some common dependencies, click the\n\"Open Examples\" button below.\n\u001b[0;31m---------------------------------------------------------------------------\u001b[0m\n"
          ]
        }
      ]
    }
  ]
}